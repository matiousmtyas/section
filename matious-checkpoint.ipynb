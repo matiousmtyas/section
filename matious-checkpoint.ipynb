{
 "cells": [
  {
   "cell_type": "code",
   "execution_count": 1,
   "id": "8424f474",
   "metadata": {},
   "outputs": [
    {
     "name": "stdout",
     "output_type": "stream",
     "text": [
      "hello jupter\n"
     ]
    }
   ],
   "source": [
    "print('hello jupter')"
   ]
  },
  {
   "cell_type": "code",
   "execution_count": 7,
   "id": "f852d4b2",
   "metadata": {},
   "outputs": [
    {
     "name": "stdout",
     "output_type": "stream",
     "text": [
      "hello\n",
      "20\n"
     ]
    }
   ],
   "source": [
    "my_str ='hello'\n",
    "my_int = 20\n",
    "print(my_str)\n",
    "print(my_int)"
   ]
  },
  {
   "cell_type": "code",
   "execution_count": 8,
   "id": "7a98f4aa",
   "metadata": {},
   "outputs": [
    {
     "data": {
      "text/plain": [
       "20"
      ]
     },
     "execution_count": 8,
     "metadata": {},
     "output_type": "execute_result"
    }
   ],
   "source": [
    "my_str\n",
    "my_int\n"
   ]
  },
  {
   "cell_type": "code",
   "execution_count": 12,
   "id": "8e80de9a",
   "metadata": {},
   "outputs": [
    {
     "name": "stdout",
     "output_type": "stream",
     "text": [
      "enter number5\n",
      "equal 5\n"
     ]
    }
   ],
   "source": [
    "x=int(input('enter number'))\n",
    "if x==5:\n",
    "    print(\"equal 5\")\n",
    "elif x<5:\n",
    "    print('x<5')\n",
    "else:\n",
    "    print('x>5')"
   ]
  },
  {
   "cell_type": "code",
   "execution_count": 13,
   "id": "42a65543",
   "metadata": {},
   "outputs": [
    {
     "data": {
      "text/plain": [
       "'matious'"
      ]
     },
     "execution_count": 13,
     "metadata": {},
     "output_type": "execute_result"
    }
   ],
   "source": [
    "my_name = ['matious','mtyas','assad','fahem']\n",
    "my_name[0]\n"
   ]
  },
  {
   "cell_type": "code",
   "execution_count": 16,
   "id": "0be861ea",
   "metadata": {},
   "outputs": [
    {
     "data": {
      "text/plain": [
       "'mtyas'"
      ]
     },
     "execution_count": 16,
     "metadata": {},
     "output_type": "execute_result"
    }
   ],
   "source": [
    "my_name[1]\n"
   ]
  },
  {
   "cell_type": "code",
   "execution_count": 17,
   "id": "bd1ceb2e",
   "metadata": {},
   "outputs": [],
   "source": [
    "my_name.append('mshrgy')\n"
   ]
  },
  {
   "cell_type": "code",
   "execution_count": 18,
   "id": "230486ab",
   "metadata": {},
   "outputs": [
    {
     "data": {
      "text/plain": [
       "['matious', 'mtyas', 'assad', 'fahem', 'mshrgy']"
      ]
     },
     "execution_count": 18,
     "metadata": {},
     "output_type": "execute_result"
    }
   ],
   "source": [
    "my_name"
   ]
  },
  {
   "cell_type": "code",
   "execution_count": 19,
   "id": "7001b375",
   "metadata": {},
   "outputs": [],
   "source": [
    "my_name.insert(2,\"mena\")"
   ]
  },
  {
   "cell_type": "code",
   "execution_count": 20,
   "id": "ed6b422b",
   "metadata": {},
   "outputs": [
    {
     "data": {
      "text/plain": [
       "['matious', 'mtyas', 'mena', 'assad', 'fahem', 'mshrgy']"
      ]
     },
     "execution_count": 20,
     "metadata": {},
     "output_type": "execute_result"
    }
   ],
   "source": [
    "my_name"
   ]
  },
  {
   "cell_type": "code",
   "execution_count": 21,
   "id": "0a06410b",
   "metadata": {},
   "outputs": [],
   "source": [
    "del my_name[2]"
   ]
  },
  {
   "cell_type": "code",
   "execution_count": 22,
   "id": "51807570",
   "metadata": {},
   "outputs": [
    {
     "data": {
      "text/plain": [
       "['matious', 'mtyas', 'assad', 'fahem', 'mshrgy']"
      ]
     },
     "execution_count": 22,
     "metadata": {},
     "output_type": "execute_result"
    }
   ],
   "source": [
    "my_name"
   ]
  },
  {
   "cell_type": "code",
   "execution_count": 23,
   "id": "3ae02ab2",
   "metadata": {},
   "outputs": [
    {
     "data": {
      "text/plain": [
       "['matious', 'mtyas', 'assad', 'fahem', 'mshrgy', 5]"
      ]
     },
     "execution_count": 23,
     "metadata": {},
     "output_type": "execute_result"
    }
   ],
   "source": [
    "my_name.append(5)\n",
    "my_name\n"
   ]
  },
  {
   "cell_type": "code",
   "execution_count": 32,
   "id": "57c31e2a",
   "metadata": {},
   "outputs": [
    {
     "name": "stdout",
     "output_type": "stream",
     "text": [
      "1\n",
      "2\n",
      "3\n",
      "4\n",
      "5\n"
     ]
    }
   ],
   "source": [
    "i = 1\n",
    "while i < 6:\n",
    "  print(i)\n",
    "  i += 1"
   ]
  },
  {
   "cell_type": "code",
   "execution_count": 33,
   "id": "136f7f93",
   "metadata": {},
   "outputs": [
    {
     "name": "stdout",
     "output_type": "stream",
     "text": [
      "m\n",
      "a\n",
      "t\n",
      "i\n",
      "o\n",
      "u\n",
      "s\n"
     ]
    }
   ],
   "source": [
    "for i in \"matious\":\n",
    "    print(i)"
   ]
  },
  {
   "cell_type": "code",
   "execution_count": 35,
   "id": "c6a7fc59",
   "metadata": {},
   "outputs": [
    {
     "name": "stdout",
     "output_type": "stream",
     "text": [
      "banana\n",
      "apple\n"
     ]
    }
   ],
   "source": [
    "fruits=[\"banana\",\"apple\",\"orange\"]\n",
    "for i in fruits:\n",
    "    print(i)\n",
    "    if i==\"apple\":\n",
    "        break"
   ]
  },
  {
   "cell_type": "code",
   "execution_count": 36,
   "id": "c7fc9d56",
   "metadata": {},
   "outputs": [
    {
     "name": "stdout",
     "output_type": "stream",
     "text": [
      "0\n",
      "1\n",
      "2\n",
      "3\n",
      "4\n",
      "5\n"
     ]
    }
   ],
   "source": [
    "for x in range(6):\n",
    "    print(x)"
   ]
  },
  {
   "cell_type": "code",
   "execution_count": 37,
   "id": "11123cb3",
   "metadata": {},
   "outputs": [
    {
     "name": "stdout",
     "output_type": "stream",
     "text": [
      "2\n",
      "3\n",
      "4\n",
      "5\n"
     ]
    }
   ],
   "source": [
    "for x in range(2,6):\n",
    "    print(x)\n"
   ]
  },
  {
   "cell_type": "code",
   "execution_count": 38,
   "id": "e34e586c",
   "metadata": {},
   "outputs": [
    {
     "name": "stdout",
     "output_type": "stream",
     "text": [
      "2\n",
      "4\n"
     ]
    }
   ],
   "source": [
    "for x in range(2,6,2):\n",
    "    print(x)\n"
   ]
  },
  {
   "cell_type": "code",
   "execution_count": 39,
   "id": "a6872dc1",
   "metadata": {},
   "outputs": [
    {
     "name": "stdout",
     "output_type": "stream",
     "text": [
      "banana 1\n",
      "banana 2\n",
      "banana 3\n",
      "apple 1\n",
      "apple 2\n",
      "apple 3\n",
      "orange 1\n",
      "orange 2\n",
      "orange 3\n"
     ]
    }
   ],
   "source": [
    "fruits=[\"banana\",\"apple\",\"orange\"]\n",
    "num=[1,2,3]\n",
    "for i in fruits:\n",
    "    for x in num:\n",
    "        print(i,x)"
   ]
  },
  {
   "cell_type": "code",
   "execution_count": 42,
   "id": "b5916331",
   "metadata": {},
   "outputs": [
    {
     "data": {
      "text/plain": [
       "{'name': 'matious', 'age': 22, 'number': 343}"
      ]
     },
     "execution_count": 42,
     "metadata": {},
     "output_type": "execute_result"
    }
   ],
   "source": [
    "thisdic={\n",
    "    \"name\":\"matious\",\n",
    "    \"age\":22,\n",
    "    \"number\":343\n",
    "}\n",
    "thisdic\n"
   ]
  },
  {
   "cell_type": "code",
   "execution_count": 43,
   "id": "c541ad03",
   "metadata": {},
   "outputs": [
    {
     "data": {
      "text/plain": [
       "'matious'"
      ]
     },
     "execution_count": 43,
     "metadata": {},
     "output_type": "execute_result"
    }
   ],
   "source": [
    "x=thisdic.get(\"name\")\n",
    "x"
   ]
  },
  {
   "cell_type": "code",
   "execution_count": 45,
   "id": "e04e3a71",
   "metadata": {},
   "outputs": [
    {
     "data": {
      "text/plain": [
       "dict_keys(['name', 'age', 'number'])"
      ]
     },
     "execution_count": 45,
     "metadata": {},
     "output_type": "execute_result"
    }
   ],
   "source": [
    "x=thisdic.keys()\n",
    "x"
   ]
  },
  {
   "cell_type": "code",
   "execution_count": 46,
   "id": "c351c9a6",
   "metadata": {},
   "outputs": [
    {
     "data": {
      "text/plain": [
       "dict_values(['matious', 22, 343])"
      ]
     },
     "execution_count": 46,
     "metadata": {},
     "output_type": "execute_result"
    }
   ],
   "source": [
    "x=thisdic.values()\n",
    "x"
   ]
  },
  {
   "cell_type": "code",
   "execution_count": null,
   "id": "cd5227f3",
   "metadata": {},
   "outputs": [],
   "source": []
  }
 ],
 "metadata": {
  "kernelspec": {
   "display_name": "Python 3 (ipykernel)",
   "language": "python",
   "name": "python3"
  },
  "language_info": {
   "codemirror_mode": {
    "name": "ipython",
    "version": 3
   },
   "file_extension": ".py",
   "mimetype": "text/x-python",
   "name": "python",
   "nbconvert_exporter": "python",
   "pygments_lexer": "ipython3",
   "version": "3.9.7"
  }
 },
 "nbformat": 4,
 "nbformat_minor": 5
}
